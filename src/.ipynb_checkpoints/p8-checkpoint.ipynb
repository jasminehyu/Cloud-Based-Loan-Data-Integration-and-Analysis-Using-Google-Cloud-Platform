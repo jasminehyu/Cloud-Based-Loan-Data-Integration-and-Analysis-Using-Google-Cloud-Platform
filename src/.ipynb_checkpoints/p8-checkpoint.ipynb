{
 "cells": [
  {
   "cell_type": "code",
   "execution_count": 1,
   "id": "f4074afc-f403-4aab-8d4b-a33eda45acfc",
   "metadata": {},
   "outputs": [],
   "source": [
    "from google.cloud import bigquery"
   ]
  },
  {
   "cell_type": "code",
   "execution_count": 2,
   "id": "0e054c90-9609-4cf7-8caf-e6b7b12b7bac",
   "metadata": {},
   "outputs": [
    {
     "name": "stderr",
     "output_type": "stream",
     "text": [
      "/home/hyu424/p8_hyu424/venv/lib/python3.12/site-packages/google/cloud/bigquery/__init__.py:237: FutureWarning: %load_ext google.cloud.bigquery is deprecated. Install bigquery-magics package and use `%load_ext bigquery_magics`, instead.\n",
      "  warnings.warn(\n"
     ]
    }
   ],
   "source": [
    "%load_ext google.cloud.bigquery"
   ]
  },
  {
   "cell_type": "code",
   "execution_count": 3,
   "id": "25ad8882-31e4-4d8d-825b-e0285b689c5f",
   "metadata": {},
   "outputs": [
    {
     "data": {
      "application/vnd.jupyter.widget-view+json": {
       "model_id": "89bb837b85a044e8a5235960eaeb4422",
       "version_major": 2,
       "version_minor": 0
      },
      "text/plain": [
       "Query is running:   0%|          |"
      ]
     },
     "metadata": {},
     "output_type": "display_data"
    },
    {
     "data": {
      "application/vnd.jupyter.widget-view+json": {
       "model_id": "d9184fd411494f4cac7435eb122c73e1",
       "version_major": 2,
       "version_minor": 0
      },
      "text/plain": [
       "Downloading:   0%|          |"
      ]
     },
     "metadata": {},
     "output_type": "display_data"
    }
   ],
   "source": [
    "%%bigquery df_1 --project cs544p8-444019\n",
    "SELECT geo_id\n",
    "FROM bigquery-public-data.geo_us_boundaries.counties\n",
    "WHERE county_name='Dane'"
   ]
  },
  {
   "cell_type": "code",
   "execution_count": 4,
   "id": "22e9c231-320b-49c3-a576-1380251641f7",
   "metadata": {},
   "outputs": [
    {
     "data": {
      "text/plain": [
       "'55025'"
      ]
     },
     "execution_count": 4,
     "metadata": {},
     "output_type": "execute_result"
    }
   ],
   "source": [
    "#q1\n",
    "ans1 = df_1.iat[0, 0]  \n",
    "ans1"
   ]
  },
  {
   "cell_type": "code",
   "execution_count": 5,
   "id": "9a6f15f4-58a7-4979-b052-afb01b91d0e6",
   "metadata": {},
   "outputs": [
    {
     "data": {
      "application/vnd.jupyter.widget-view+json": {
       "model_id": "113350f0d8cf432a9d27bcb33337229a",
       "version_major": 2,
       "version_minor": 0
      },
      "text/plain": [
       "Query is running:   0%|          |"
      ]
     },
     "metadata": {},
     "output_type": "display_data"
    },
    {
     "data": {
      "application/vnd.jupyter.widget-view+json": {
       "model_id": "532938723dc44c788f16f63082456673",
       "version_major": 2,
       "version_minor": 0
      },
      "text/plain": [
       "Downloading:   0%|          |"
      ]
     },
     "metadata": {},
     "output_type": "display_data"
    }
   ],
   "source": [
    "%%bigquery df_2 --project cs544p8-444019\n",
    "SELECT state_fips_code, COUNT(geo_id) AS counts\n",
    "FROM bigquery-public-data.geo_us_boundaries.counties\n",
    "GROUP BY state_fips_code\n",
    "ORDER BY counts DESC\n",
    "LIMIT 5"
   ]
  },
  {
   "cell_type": "code",
   "execution_count": 6,
   "id": "09d27fd3-819c-46ea-b1c5-b47ea68d6826",
   "metadata": {},
   "outputs": [
    {
     "data": {
      "text/plain": [
       "{'48': 254, '13': 159, '51': 133, '21': 120, '29': 115}"
      ]
     },
     "execution_count": 6,
     "metadata": {},
     "output_type": "execute_result"
    }
   ],
   "source": [
    "#q2\n",
    "df_2 = df_2.set_index(\"state_fips_code\")\n",
    "result_dict_2 = df_2['counts'].to_dict()\n",
    "result_dict_2"
   ]
  },
  {
   "cell_type": "code",
   "execution_count": 7,
   "id": "b9c7b476-a349-45b5-be72-464366e9f09c",
   "metadata": {},
   "outputs": [
    {
     "name": "stderr",
     "output_type": "stream",
     "text": [
      "/home/hyu424/p8_hyu424/venv/lib/python3.12/site-packages/google/auth/_default.py:76: UserWarning: Your application has authenticated using end user credentials from Google Cloud SDK without a quota project. You might receive a \"quota exceeded\" or \"API not enabled\" error. See the following page for troubleshooting: https://cloud.google.com/docs/authentication/adc-troubleshooting/user-creds. \n",
      "  warnings.warn(_CLOUD_SDK_CREDENTIALS_WARNING)\n"
     ]
    }
   ],
   "source": [
    "no_cache_dry = bigquery.QueryJobConfig(use_query_cache=False)\n",
    "bq = bigquery.Client(\"cs544p8-444019\")\n",
    "q1 = bq.query(\"\"\"\n",
    "SELECT geo_id\n",
    "FROM bigquery-public-data.geo_us_boundaries.counties\n",
    "WHERE county_name='Dane'\n",
    "\"\"\", job_config=no_cache_dry)\n",
    "\n",
    "result_q1=q1.total_bytes_billed / 1024**2\n",
    "\n",
    "q2=bq.query(\"\"\"\n",
    "SELECT state_fips_code, COUNT(geo_id) AS counts\n",
    "FROM bigquery-public-data.geo_us_boundaries.counties\n",
    "GROUP BY state_fips_code\n",
    "ORDER BY counts DESC\n",
    "LIMIT 5\n",
    "\"\"\", job_config=no_cache_dry)\n",
    "\n",
    "result_q2=q2.total_bytes_billed / 1024**2"
   ]
  },
  {
   "cell_type": "code",
   "execution_count": 8,
   "id": "3246160f-5f8f-474c-8117-56105044b445",
   "metadata": {},
   "outputs": [
    {
     "data": {
      "text/plain": [
       "{'q1': '10 MB', 'q2': '10 MB'}"
      ]
     },
     "execution_count": 8,
     "metadata": {},
     "output_type": "execute_result"
    }
   ],
   "source": [
    "#q3\n",
    "result_q3 = {\n",
    "    \"q1\": f\"{int(result_q1)} MB\",\n",
    "    \"q2\": f\"{int(result_q2)} MB\"\n",
    "}\n",
    "result_q3"
   ]
  },
  {
   "cell_type": "code",
   "execution_count": 9,
   "id": "ff27ab37-90dd-48b2-bdb6-a737a395b81d",
   "metadata": {},
   "outputs": [
    {
     "name": "stderr",
     "output_type": "stream",
     "text": [
      "/home/hyu424/p8_hyu424/venv/lib/python3.12/site-packages/google/auth/_default.py:76: UserWarning: Your application has authenticated using end user credentials from Google Cloud SDK without a quota project. You might receive a \"quota exceeded\" or \"API not enabled\" error. See the following page for troubleshooting: https://cloud.google.com/docs/authentication/adc-troubleshooting/user-creds. \n",
      "  warnings.warn(_CLOUD_SDK_CREDENTIALS_WARNING)\n"
     ]
    },
    {
     "data": {
      "text/plain": [
       "Dataset(DatasetReference('cs544p8-444019', 'p8'))"
      ]
     },
     "execution_count": 9,
     "metadata": {},
     "output_type": "execute_result"
    }
   ],
   "source": [
    "bq = bigquery.Client(\"cs544p8-444019\")\n",
    "ds= bigquery.Dataset(\"cs544p8-444019.p8\")\n",
    "bq.create_dataset(ds, exists_ok=True)"
   ]
  },
  {
   "cell_type": "code",
   "execution_count": 10,
   "id": "593c8671-031e-45db-9ea4-fce2b4361f49",
   "metadata": {},
   "outputs": [
    {
     "data": {
      "text/plain": [
       "Table(TableReference(DatasetReference('cs544p8-444019', 'p8'), 'hdma'))"
      ]
     },
     "execution_count": 10,
     "metadata": {},
     "output_type": "execute_result"
    }
   ],
   "source": [
    "config = bigquery.ExternalConfig(source_format=\"PARQUET\")\n",
    "config.source_uris = [\"gs://cs544_p8_1688/hdma-wi-2021.parquet\"]\n",
    "# config.autodetect = True\n",
    "table = bigquery.Table(\"cs544p8-444019.p8.hdma\")\n",
    "table.external_data_configuration = config\n",
    "bq.create_table(table, exists_ok=True)"
   ]
  },
  {
   "cell_type": "code",
   "execution_count": 11,
   "id": "40292507-e013-470d-a039-ada7ac799962",
   "metadata": {},
   "outputs": [
    {
     "data": {
      "text/plain": [
       "['p8']"
      ]
     },
     "execution_count": 11,
     "metadata": {},
     "output_type": "execute_result"
    }
   ],
   "source": [
    "#q4\n",
    "datasets=[]\n",
    "for ds in bq.list_datasets(\"cs544p8-444019\"):\n",
    "    datasets.append(ds.dataset_id)\n",
    "datasets"
   ]
  },
  {
   "cell_type": "code",
   "execution_count": 12,
   "id": "27c934b3-d817-4708-995c-f446c857229e",
   "metadata": {},
   "outputs": [],
   "source": [
    "q=bq.query(\"\"\"\n",
    "SELECT c.county_name AS county_name, COUNT(h.index) AS application_count \n",
    "FROM p8.hdma as h\n",
    "JOIN bigquery-public-data.geo_us_boundaries.counties AS c\n",
    "ON h.county_code=c.county_fips_code\n",
    "GROUP BY c.county_name\n",
    "ORDER BY application_count DESC\n",
    "LIMIT 10\n",
    "\"\"\")"
   ]
  },
  {
   "cell_type": "code",
   "execution_count": 13,
   "id": "86e0bb58-e1cd-48fd-8b28-71b4e8e0e7c6",
   "metadata": {},
   "outputs": [
    {
     "data": {
      "text/html": [
       "<div>\n",
       "<style scoped>\n",
       "    .dataframe tbody tr th:only-of-type {\n",
       "        vertical-align: middle;\n",
       "    }\n",
       "\n",
       "    .dataframe tbody tr th {\n",
       "        vertical-align: top;\n",
       "    }\n",
       "\n",
       "    .dataframe thead th {\n",
       "        text-align: right;\n",
       "    }\n",
       "</style>\n",
       "<table border=\"1\" class=\"dataframe\">\n",
       "  <thead>\n",
       "    <tr style=\"text-align: right;\">\n",
       "      <th></th>\n",
       "      <th>county_name</th>\n",
       "      <th>application_count</th>\n",
       "    </tr>\n",
       "  </thead>\n",
       "  <tbody>\n",
       "    <tr>\n",
       "      <th>0</th>\n",
       "      <td>Milwaukee</td>\n",
       "      <td>46570</td>\n",
       "    </tr>\n",
       "    <tr>\n",
       "      <th>1</th>\n",
       "      <td>Dane</td>\n",
       "      <td>38557</td>\n",
       "    </tr>\n",
       "    <tr>\n",
       "      <th>2</th>\n",
       "      <td>Waukesha</td>\n",
       "      <td>34159</td>\n",
       "    </tr>\n",
       "    <tr>\n",
       "      <th>3</th>\n",
       "      <td>Brown</td>\n",
       "      <td>15615</td>\n",
       "    </tr>\n",
       "    <tr>\n",
       "      <th>4</th>\n",
       "      <td>Racine</td>\n",
       "      <td>13007</td>\n",
       "    </tr>\n",
       "    <tr>\n",
       "      <th>5</th>\n",
       "      <td>Outagamie</td>\n",
       "      <td>11523</td>\n",
       "    </tr>\n",
       "    <tr>\n",
       "      <th>6</th>\n",
       "      <td>Kenosha</td>\n",
       "      <td>10744</td>\n",
       "    </tr>\n",
       "    <tr>\n",
       "      <th>7</th>\n",
       "      <td>Washington</td>\n",
       "      <td>10726</td>\n",
       "    </tr>\n",
       "    <tr>\n",
       "      <th>8</th>\n",
       "      <td>Rock</td>\n",
       "      <td>9834</td>\n",
       "    </tr>\n",
       "    <tr>\n",
       "      <th>9</th>\n",
       "      <td>Winnebago</td>\n",
       "      <td>9310</td>\n",
       "    </tr>\n",
       "  </tbody>\n",
       "</table>\n",
       "</div>"
      ],
      "text/plain": [
       "  county_name  application_count\n",
       "0   Milwaukee              46570\n",
       "1        Dane              38557\n",
       "2    Waukesha              34159\n",
       "3       Brown              15615\n",
       "4      Racine              13007\n",
       "5   Outagamie              11523\n",
       "6     Kenosha              10744\n",
       "7  Washington              10726\n",
       "8        Rock               9834\n",
       "9   Winnebago               9310"
      ]
     },
     "execution_count": 13,
     "metadata": {},
     "output_type": "execute_result"
    }
   ],
   "source": [
    "df_5=q.to_dataframe()\n",
    "df_5"
   ]
  },
  {
   "cell_type": "code",
   "execution_count": 14,
   "id": "4141daa3-90dd-4ca0-9e69-9924ce50dd11",
   "metadata": {},
   "outputs": [
    {
     "data": {
      "text/plain": [
       "{'Milwaukee': 46570,\n",
       " 'Dane': 38557,\n",
       " 'Waukesha': 34159,\n",
       " 'Brown': 15615,\n",
       " 'Racine': 13007,\n",
       " 'Outagamie': 11523,\n",
       " 'Kenosha': 10744,\n",
       " 'Washington': 10726,\n",
       " 'Rock': 9834,\n",
       " 'Winnebago': 9310}"
      ]
     },
     "execution_count": 14,
     "metadata": {},
     "output_type": "execute_result"
    }
   ],
   "source": [
    "#q5\n",
    "df_5=df_5.set_index('county_name')\n",
    "result_5=df_5['application_count'].to_dict()\n",
    "result_5"
   ]
  },
  {
   "cell_type": "code",
   "execution_count": 15,
   "id": "266d2fee-fa39-4e2f-8ffb-547fec909aec",
   "metadata": {},
   "outputs": [
    {
     "data": {
      "text/plain": [
       "Table(TableReference(DatasetReference('cs544p8-444019', 'p8'), 'applications'))"
      ]
     },
     "execution_count": 15,
     "metadata": {},
     "output_type": "execute_result"
    }
   ],
   "source": [
    "config = bigquery.ExternalConfig(\"GOOGLE_SHEETS\")\n",
    "config.source_uris = [\"https://docs.google.com/spreadsheets/d/13e14LzDDm9U4y2KddlKFAy7exNdbo1OwJa-OTe4ywiw\"]\n",
    "config.autodetect = True\n",
    "table = bigquery.Table(\"cs544p8-444019.p8.applications\")\n",
    "table.external_data_configuration = config\n",
    "bq.create_table(table, exists_ok=True)"
   ]
  },
  {
   "cell_type": "code",
   "execution_count": 16,
   "id": "f9fa16a5-bd6c-4079-b89f-2e33f284d739",
   "metadata": {},
   "outputs": [],
   "source": [
    "q=bq.query(\"\"\"\n",
    "SELECT Count(income) AS counts\n",
    "FROM p8.applications\n",
    "WHERE income=100000\n",
    "\"\"\")"
   ]
  },
  {
   "cell_type": "code",
   "execution_count": 17,
   "id": "46088ff4-004a-4fc7-882d-00139cc99ee9",
   "metadata": {},
   "outputs": [
    {
     "data": {
      "text/plain": [
       "38"
      ]
     },
     "execution_count": 17,
     "metadata": {},
     "output_type": "execute_result"
    }
   ],
   "source": [
    "#q6\n",
    "df_6=q.to_dataframe()\n",
    "int(df_6.iat[0,0])"
   ]
  },
  {
   "cell_type": "code",
   "execution_count": 18,
   "id": "ec9bb97f-ff9a-46f1-a246-8378c262e5d8",
   "metadata": {},
   "outputs": [
    {
     "data": {
      "application/vnd.jupyter.widget-view+json": {
       "model_id": "12a4fefde3eb4ad586a559322f95eb5e",
       "version_major": 2,
       "version_minor": 0
      },
      "text/plain": [
       "Query is running:   0%|          |"
      ]
     },
     "metadata": {},
     "output_type": "display_data"
    },
    {
     "data": {
      "text/html": [
       "<div>\n",
       "<style scoped>\n",
       "    .dataframe tbody tr th:only-of-type {\n",
       "        vertical-align: middle;\n",
       "    }\n",
       "\n",
       "    .dataframe tbody tr th {\n",
       "        vertical-align: top;\n",
       "    }\n",
       "\n",
       "    .dataframe thead th {\n",
       "        text-align: right;\n",
       "    }\n",
       "</style>\n",
       "<table border=\"1\" class=\"dataframe\">\n",
       "  <thead>\n",
       "    <tr style=\"text-align: right;\">\n",
       "      <th></th>\n",
       "    </tr>\n",
       "  </thead>\n",
       "  <tbody>\n",
       "  </tbody>\n",
       "</table>\n",
       "</div>"
      ],
      "text/plain": [
       "Empty DataFrame\n",
       "Columns: []\n",
       "Index: []"
      ]
     },
     "execution_count": 18,
     "metadata": {},
     "output_type": "execute_result"
    }
   ],
   "source": [
    "%%bigquery --project cs544p8-444019\n",
    "\n",
    "CREATE OR REPLACE MODEL p8.lr\n",
    "OPTIONS(model_type=\"LINEAR_REG\",INPUT_LABEL_COLS=[\"loan_amount\"],DATA_SPLIT_METHOD=\"NO_SPLIT\")\n",
    "\n",
    "AS\n",
    "\n",
    "SELECT income,loan_amount\n",
    "FROM p8.applications"
   ]
  },
  {
   "cell_type": "code",
   "execution_count": 19,
   "id": "7ab01d70-213b-430d-8870-a87722d9083b",
   "metadata": {},
   "outputs": [
    {
     "data": {
      "application/vnd.jupyter.widget-view+json": {
       "model_id": "bef5ae6f7ea74c2baf0e7971711f8f29",
       "version_major": 2,
       "version_minor": 0
      },
      "text/plain": [
       "Query is running:   0%|          |"
      ]
     },
     "metadata": {},
     "output_type": "display_data"
    },
    {
     "data": {
      "application/vnd.jupyter.widget-view+json": {
       "model_id": "61b087c22d3f47b08d3e4f27b2d64169",
       "version_major": 2,
       "version_minor": 0
      },
      "text/plain": [
       "Downloading:   0%|          |"
      ]
     },
     "metadata": {},
     "output_type": "display_data"
    },
    {
     "data": {
      "text/html": [
       "<div>\n",
       "<style scoped>\n",
       "    .dataframe tbody tr th:only-of-type {\n",
       "        vertical-align: middle;\n",
       "    }\n",
       "\n",
       "    .dataframe tbody tr th {\n",
       "        vertical-align: top;\n",
       "    }\n",
       "\n",
       "    .dataframe thead th {\n",
       "        text-align: right;\n",
       "    }\n",
       "</style>\n",
       "<table border=\"1\" class=\"dataframe\">\n",
       "  <thead>\n",
       "    <tr style=\"text-align: right;\">\n",
       "      <th></th>\n",
       "      <th>processed_input</th>\n",
       "      <th>weight</th>\n",
       "      <th>category_weights</th>\n",
       "    </tr>\n",
       "  </thead>\n",
       "  <tbody>\n",
       "    <tr>\n",
       "      <th>0</th>\n",
       "      <td>income</td>\n",
       "      <td>1.683795e+00</td>\n",
       "      <td>[]</td>\n",
       "    </tr>\n",
       "    <tr>\n",
       "      <th>1</th>\n",
       "      <td>__INTERCEPT__</td>\n",
       "      <td>2.160742e+06</td>\n",
       "      <td>[]</td>\n",
       "    </tr>\n",
       "  </tbody>\n",
       "</table>\n",
       "</div>"
      ],
      "text/plain": [
       "  processed_input        weight category_weights\n",
       "0          income  1.683795e+00               []\n",
       "1   __INTERCEPT__  2.160742e+06               []"
      ]
     },
     "execution_count": 19,
     "metadata": {},
     "output_type": "execute_result"
    }
   ],
   "source": [
    "%%bigquery --project cs544p8-444019\n",
    "SELECT *\n",
    "FROM ML.WEIGHTS(MODEL p8.lr)"
   ]
  },
  {
   "cell_type": "code",
   "execution_count": 20,
   "id": "8edd3bcb-fdda-435b-9327-ecf5476b2311",
   "metadata": {},
   "outputs": [
    {
     "data": {
      "application/vnd.jupyter.widget-view+json": {
       "model_id": "a02f9f52bd7648b68dedf487b2586fe9",
       "version_major": 2,
       "version_minor": 0
      },
      "text/plain": [
       "Query is running:   0%|          |"
      ]
     },
     "metadata": {},
     "output_type": "display_data"
    },
    {
     "data": {
      "application/vnd.jupyter.widget-view+json": {
       "model_id": "2c93f6cb739e4cc78a2fa603d1a95c9f",
       "version_major": 2,
       "version_minor": 0
      },
      "text/plain": [
       "Downloading:   0%|          |"
      ]
     },
     "metadata": {},
     "output_type": "display_data"
    }
   ],
   "source": [
    "%%bigquery df_ml--project cs544p8-444019\n",
    "SELECT *\n",
    "FROM ML.EVALUATE(MODEL p8.lr,(\n",
    "    SELECT income,loan_amount\n",
    "    FROM p8.applications \n",
    "))"
   ]
  },
  {
   "cell_type": "code",
   "execution_count": 21,
   "id": "ef1d7df2-f07e-49cd-a12b-46cc41b8ab3e",
   "metadata": {},
   "outputs": [
    {
     "data": {
      "text/plain": [
       "0.029894938525245718"
      ]
     },
     "execution_count": 21,
     "metadata": {},
     "output_type": "execute_result"
    }
   ],
   "source": [
    "#q7\n",
    "float(df_ml[\"r2_score\"][0])"
   ]
  },
  {
   "cell_type": "code",
   "execution_count": 22,
   "id": "e0c73efe-f111-4b05-9fb8-28ac4144549b",
   "metadata": {},
   "outputs": [
    {
     "data": {
      "application/vnd.jupyter.widget-view+json": {
       "model_id": "93067e9d1d1a44f6ab0b8ae8ebed4d57",
       "version_major": 2,
       "version_minor": 0
      },
      "text/plain": [
       "Query is running:   0%|          |"
      ]
     },
     "metadata": {},
     "output_type": "display_data"
    },
    {
     "data": {
      "text/html": [
       "<div>\n",
       "<style scoped>\n",
       "    .dataframe tbody tr th:only-of-type {\n",
       "        vertical-align: middle;\n",
       "    }\n",
       "\n",
       "    .dataframe tbody tr th {\n",
       "        vertical-align: top;\n",
       "    }\n",
       "\n",
       "    .dataframe thead th {\n",
       "        text-align: right;\n",
       "    }\n",
       "</style>\n",
       "<table border=\"1\" class=\"dataframe\">\n",
       "  <thead>\n",
       "    <tr style=\"text-align: right;\">\n",
       "      <th></th>\n",
       "    </tr>\n",
       "  </thead>\n",
       "  <tbody>\n",
       "  </tbody>\n",
       "</table>\n",
       "</div>"
      ],
      "text/plain": [
       "Empty DataFrame\n",
       "Columns: []\n",
       "Index: []"
      ]
     },
     "execution_count": 22,
     "metadata": {},
     "output_type": "execute_result"
    }
   ],
   "source": [
    "%%bigquery --project cs544p8-444019\n",
    "CREATE OR REPLACE TABLE cs544p8-444019.p8.houses\n",
    "AS\n",
    "SELECT ST_GEOGPOINT(longitude, latitude) AS loc, applications.*\n",
    "FROM cs544p8-444019.p8.applications"
   ]
  },
  {
   "cell_type": "code",
   "execution_count": 23,
   "id": "c7d72972-8afa-4a2d-939f-d0a7602ec64f",
   "metadata": {},
   "outputs": [
    {
     "data": {
      "application/vnd.jupyter.widget-view+json": {
       "model_id": "7c1b44632efe49a3b66e4b04ea43880e",
       "version_major": 2,
       "version_minor": 0
      },
      "text/plain": [
       "Query is running:   0%|          |"
      ]
     },
     "metadata": {},
     "output_type": "display_data"
    },
    {
     "data": {
      "application/vnd.jupyter.widget-view+json": {
       "model_id": "6e81b8fb56c6458b909db8e95ed5b3da",
       "version_major": 2,
       "version_minor": 0
      },
      "text/plain": [
       "Downloading:   0%|          |"
      ]
     },
     "metadata": {},
     "output_type": "display_data"
    }
   ],
   "source": [
    "%%bigquery df_7--project cs544p8-444019\n",
    "SELECT ST_DISTANCE(houses.loc, ST_GEOGPOINT(-89.384107, 43.074715)) AS meter, houses.*\n",
    "FROM cs544p8-444019.p8.houses\n",
    "ORDER BY meter ASC\n",
    "LIMIT 1"
   ]
  },
  {
   "cell_type": "code",
   "execution_count": 24,
   "id": "55f26d53-7e50-4356-b64b-c28f5dab0725",
   "metadata": {},
   "outputs": [
    {
     "data": {
      "text/plain": [
       "0.0"
      ]
     },
     "execution_count": 24,
     "metadata": {},
     "output_type": "execute_result"
    }
   ],
   "source": [
    "#q8\n",
    "float(df_7.at[0,\"meter\"])"
   ]
  },
  {
   "cell_type": "code",
   "execution_count": 25,
   "id": "b7c257f1-ae32-4894-9019-00f63b567d55",
   "metadata": {},
   "outputs": [
    {
     "data": {
      "application/vnd.jupyter.widget-view+json": {
       "model_id": "5bd29725973749a8bee8120d60a75eab",
       "version_major": 2,
       "version_minor": 0
      },
      "text/plain": [
       "Query is running:   0%|          |"
      ]
     },
     "metadata": {},
     "output_type": "display_data"
    },
    {
     "data": {
      "text/html": [
       "<div>\n",
       "<style scoped>\n",
       "    .dataframe tbody tr th:only-of-type {\n",
       "        vertical-align: middle;\n",
       "    }\n",
       "\n",
       "    .dataframe tbody tr th {\n",
       "        vertical-align: top;\n",
       "    }\n",
       "\n",
       "    .dataframe thead th {\n",
       "        text-align: right;\n",
       "    }\n",
       "</style>\n",
       "<table border=\"1\" class=\"dataframe\">\n",
       "  <thead>\n",
       "    <tr style=\"text-align: right;\">\n",
       "      <th></th>\n",
       "    </tr>\n",
       "  </thead>\n",
       "  <tbody>\n",
       "  </tbody>\n",
       "</table>\n",
       "</div>"
      ],
      "text/plain": [
       "Empty DataFrame\n",
       "Columns: []\n",
       "Index: []"
      ]
     },
     "execution_count": 25,
     "metadata": {},
     "output_type": "execute_result"
    }
   ],
   "source": [
    "%%bigquery --project cs544p8-444019\n",
    "CREATE OR REPLACE TABLE cs544p8-444019.p8.wi\n",
    "AS\n",
    "SELECT county_name, county_geom\n",
    "FROM bigquery-public-data.geo_us_boundaries.counties\n",
    "WHERE state_fips_code = '55'"
   ]
  },
  {
   "cell_type": "code",
   "execution_count": 26,
   "id": "421d0139-e664-4079-ad81-19672dcb3cfd",
   "metadata": {},
   "outputs": [
    {
     "data": {
      "text/html": [
       "<div>\n",
       "<style scoped>\n",
       "    .dataframe tbody tr th:only-of-type {\n",
       "        vertical-align: middle;\n",
       "    }\n",
       "\n",
       "    .dataframe tbody tr th {\n",
       "        vertical-align: top;\n",
       "    }\n",
       "\n",
       "    .dataframe thead th {\n",
       "        text-align: right;\n",
       "    }\n",
       "</style>\n",
       "<table border=\"1\" class=\"dataframe\">\n",
       "  <thead>\n",
       "    <tr style=\"text-align: right;\">\n",
       "      <th></th>\n",
       "      <th>county_name</th>\n",
       "      <th>counts</th>\n",
       "    </tr>\n",
       "  </thead>\n",
       "  <tbody>\n",
       "    <tr>\n",
       "      <th>0</th>\n",
       "      <td>Dane</td>\n",
       "      <td>60</td>\n",
       "    </tr>\n",
       "    <tr>\n",
       "      <th>1</th>\n",
       "      <td>St. Croix</td>\n",
       "      <td>2</td>\n",
       "    </tr>\n",
       "    <tr>\n",
       "      <th>2</th>\n",
       "      <td>Door</td>\n",
       "      <td>8</td>\n",
       "    </tr>\n",
       "    <tr>\n",
       "      <th>3</th>\n",
       "      <td>Bayfield</td>\n",
       "      <td>2</td>\n",
       "    </tr>\n",
       "    <tr>\n",
       "      <th>4</th>\n",
       "      <td>Oneida</td>\n",
       "      <td>2</td>\n",
       "    </tr>\n",
       "    <tr>\n",
       "      <th>5</th>\n",
       "      <td>Waushara</td>\n",
       "      <td>1</td>\n",
       "    </tr>\n",
       "    <tr>\n",
       "      <th>6</th>\n",
       "      <td>Brown</td>\n",
       "      <td>3</td>\n",
       "    </tr>\n",
       "    <tr>\n",
       "      <th>7</th>\n",
       "      <td>Jefferson</td>\n",
       "      <td>4</td>\n",
       "    </tr>\n",
       "    <tr>\n",
       "      <th>8</th>\n",
       "      <td>Fond du Lac</td>\n",
       "      <td>2</td>\n",
       "    </tr>\n",
       "    <tr>\n",
       "      <th>9</th>\n",
       "      <td>Milwaukee</td>\n",
       "      <td>7</td>\n",
       "    </tr>\n",
       "    <tr>\n",
       "      <th>10</th>\n",
       "      <td>Shawano</td>\n",
       "      <td>2</td>\n",
       "    </tr>\n",
       "    <tr>\n",
       "      <th>11</th>\n",
       "      <td>Taylor</td>\n",
       "      <td>1</td>\n",
       "    </tr>\n",
       "    <tr>\n",
       "      <th>12</th>\n",
       "      <td>Juneau</td>\n",
       "      <td>2</td>\n",
       "    </tr>\n",
       "    <tr>\n",
       "      <th>13</th>\n",
       "      <td>Barron</td>\n",
       "      <td>1</td>\n",
       "    </tr>\n",
       "    <tr>\n",
       "      <th>14</th>\n",
       "      <td>Waukesha</td>\n",
       "      <td>1</td>\n",
       "    </tr>\n",
       "    <tr>\n",
       "      <th>15</th>\n",
       "      <td>Vilas</td>\n",
       "      <td>1</td>\n",
       "    </tr>\n",
       "    <tr>\n",
       "      <th>16</th>\n",
       "      <td>Price</td>\n",
       "      <td>2</td>\n",
       "    </tr>\n",
       "    <tr>\n",
       "      <th>17</th>\n",
       "      <td>Oconto</td>\n",
       "      <td>1</td>\n",
       "    </tr>\n",
       "    <tr>\n",
       "      <th>18</th>\n",
       "      <td>Wood</td>\n",
       "      <td>1</td>\n",
       "    </tr>\n",
       "    <tr>\n",
       "      <th>19</th>\n",
       "      <td>Columbia</td>\n",
       "      <td>1</td>\n",
       "    </tr>\n",
       "    <tr>\n",
       "      <th>20</th>\n",
       "      <td>Douglas</td>\n",
       "      <td>1</td>\n",
       "    </tr>\n",
       "    <tr>\n",
       "      <th>21</th>\n",
       "      <td>Forest</td>\n",
       "      <td>1</td>\n",
       "    </tr>\n",
       "    <tr>\n",
       "      <th>22</th>\n",
       "      <td>Marinette</td>\n",
       "      <td>3</td>\n",
       "    </tr>\n",
       "    <tr>\n",
       "      <th>23</th>\n",
       "      <td>Iowa</td>\n",
       "      <td>1</td>\n",
       "    </tr>\n",
       "    <tr>\n",
       "      <th>24</th>\n",
       "      <td>Green</td>\n",
       "      <td>1</td>\n",
       "    </tr>\n",
       "    <tr>\n",
       "      <th>25</th>\n",
       "      <td>Winnebago</td>\n",
       "      <td>1</td>\n",
       "    </tr>\n",
       "    <tr>\n",
       "      <th>26</th>\n",
       "      <td>Walworth</td>\n",
       "      <td>1</td>\n",
       "    </tr>\n",
       "    <tr>\n",
       "      <th>27</th>\n",
       "      <td>Ashland</td>\n",
       "      <td>1</td>\n",
       "    </tr>\n",
       "    <tr>\n",
       "      <th>28</th>\n",
       "      <td>Sawyer</td>\n",
       "      <td>1</td>\n",
       "    </tr>\n",
       "    <tr>\n",
       "      <th>29</th>\n",
       "      <td>Rock</td>\n",
       "      <td>1</td>\n",
       "    </tr>\n",
       "    <tr>\n",
       "      <th>30</th>\n",
       "      <td>Sauk</td>\n",
       "      <td>1</td>\n",
       "    </tr>\n",
       "  </tbody>\n",
       "</table>\n",
       "</div>"
      ],
      "text/plain": [
       "    county_name  counts\n",
       "0          Dane      60\n",
       "1     St. Croix       2\n",
       "2          Door       8\n",
       "3      Bayfield       2\n",
       "4        Oneida       2\n",
       "5      Waushara       1\n",
       "6         Brown       3\n",
       "7     Jefferson       4\n",
       "8   Fond du Lac       2\n",
       "9     Milwaukee       7\n",
       "10      Shawano       2\n",
       "11       Taylor       1\n",
       "12       Juneau       2\n",
       "13       Barron       1\n",
       "14     Waukesha       1\n",
       "15        Vilas       1\n",
       "16        Price       2\n",
       "17       Oconto       1\n",
       "18         Wood       1\n",
       "19     Columbia       1\n",
       "20      Douglas       1\n",
       "21       Forest       1\n",
       "22    Marinette       3\n",
       "23         Iowa       1\n",
       "24        Green       1\n",
       "25    Winnebago       1\n",
       "26     Walworth       1\n",
       "27      Ashland       1\n",
       "28       Sawyer       1\n",
       "29         Rock       1\n",
       "30         Sauk       1"
      ]
     },
     "execution_count": 26,
     "metadata": {},
     "output_type": "execute_result"
    }
   ],
   "source": [
    "df_9 = bq.query(\"\"\"\n",
    "SELECT wi.county_name, COUNT(*) as counts\n",
    "FROM cs544p8-444019.p8.houses\n",
    "CROSS JOIN cs544p8-444019.p8.wi\n",
    "WHERE ST_Within(houses.loc, wi.county_geom)\n",
    "GROUP BY wi.county_name\n",
    "\"\"\").to_dataframe()\n",
    "df_9"
   ]
  },
  {
   "cell_type": "code",
   "execution_count": 27,
   "id": "97cb92a7-c851-4964-b49a-5a7aeb0b1ea6",
   "metadata": {},
   "outputs": [
    {
     "data": {
      "text/plain": [
       "{'Dane': 60,\n",
       " 'St. Croix': 2,\n",
       " 'Door': 8,\n",
       " 'Bayfield': 2,\n",
       " 'Oneida': 2,\n",
       " 'Waushara': 1,\n",
       " 'Brown': 3,\n",
       " 'Jefferson': 4,\n",
       " 'Fond du Lac': 2,\n",
       " 'Milwaukee': 7,\n",
       " 'Shawano': 2,\n",
       " 'Taylor': 1,\n",
       " 'Juneau': 2,\n",
       " 'Barron': 1,\n",
       " 'Waukesha': 1,\n",
       " 'Vilas': 1,\n",
       " 'Price': 2,\n",
       " 'Oconto': 1,\n",
       " 'Wood': 1,\n",
       " 'Columbia': 1,\n",
       " 'Douglas': 1,\n",
       " 'Forest': 1,\n",
       " 'Marinette': 3,\n",
       " 'Iowa': 1,\n",
       " 'Green': 1,\n",
       " 'Winnebago': 1,\n",
       " 'Walworth': 1,\n",
       " 'Ashland': 1,\n",
       " 'Sawyer': 1,\n",
       " 'Rock': 1,\n",
       " 'Sauk': 1}"
      ]
     },
     "execution_count": 27,
     "metadata": {},
     "output_type": "execute_result"
    }
   ],
   "source": [
    "#q9\n",
    "df_9.set_index(\"county_name\")['counts'].to_dict()"
   ]
  },
  {
   "cell_type": "code",
   "execution_count": 28,
   "id": "9930cd89-bf60-4fc7-8eaf-284859c6e8a3",
   "metadata": {},
   "outputs": [
    {
     "data": {
      "text/html": [
       "<div>\n",
       "<style scoped>\n",
       "    .dataframe tbody tr th:only-of-type {\n",
       "        vertical-align: middle;\n",
       "    }\n",
       "\n",
       "    .dataframe tbody tr th {\n",
       "        vertical-align: top;\n",
       "    }\n",
       "\n",
       "    .dataframe thead th {\n",
       "        text-align: right;\n",
       "    }\n",
       "</style>\n",
       "<table border=\"1\" class=\"dataframe\">\n",
       "  <thead>\n",
       "    <tr style=\"text-align: right;\">\n",
       "      <th></th>\n",
       "      <th>county</th>\n",
       "      <th>neighbors</th>\n",
       "    </tr>\n",
       "  </thead>\n",
       "  <tbody>\n",
       "    <tr>\n",
       "      <th>0</th>\n",
       "      <td>Rock County</td>\n",
       "      <td>[Walworth, Winnebago, Boone, Green, Jefferson,...</td>\n",
       "    </tr>\n",
       "    <tr>\n",
       "      <th>1</th>\n",
       "      <td>Green County</td>\n",
       "      <td>[Lafayette, Rock, Iowa, Stephenson, Dane, Winn...</td>\n",
       "    </tr>\n",
       "    <tr>\n",
       "      <th>2</th>\n",
       "      <td>Jefferson County</td>\n",
       "      <td>[Dodge, Rock, Walworth, Dane, Waukesha]</td>\n",
       "    </tr>\n",
       "    <tr>\n",
       "      <th>3</th>\n",
       "      <td>Iowa County</td>\n",
       "      <td>[Lafayette, Green, Sauk, Richland, Dane, Grant]</td>\n",
       "    </tr>\n",
       "    <tr>\n",
       "      <th>4</th>\n",
       "      <td>Sauk County</td>\n",
       "      <td>[Iowa, Richland, Vernon, Dane, Juneau, Columbia]</td>\n",
       "    </tr>\n",
       "    <tr>\n",
       "      <th>5</th>\n",
       "      <td>Columbia County</td>\n",
       "      <td>[Juneau, Dodge, Sauk, Marquette, Dane, Green L...</td>\n",
       "    </tr>\n",
       "    <tr>\n",
       "      <th>6</th>\n",
       "      <td>Dodge County</td>\n",
       "      <td>[Fond du Lac, Jefferson, Green Lake, Dane, Wau...</td>\n",
       "    </tr>\n",
       "  </tbody>\n",
       "</table>\n",
       "</div>"
      ],
      "text/plain": [
       "             county                                          neighbors\n",
       "0       Rock County  [Walworth, Winnebago, Boone, Green, Jefferson,...\n",
       "1      Green County  [Lafayette, Rock, Iowa, Stephenson, Dane, Winn...\n",
       "2  Jefferson County            [Dodge, Rock, Walworth, Dane, Waukesha]\n",
       "3       Iowa County    [Lafayette, Green, Sauk, Richland, Dane, Grant]\n",
       "4       Sauk County   [Iowa, Richland, Vernon, Dane, Juneau, Columbia]\n",
       "5   Columbia County  [Juneau, Dodge, Sauk, Marquette, Dane, Green L...\n",
       "6      Dodge County  [Fond du Lac, Jefferson, Green Lake, Dane, Wau..."
      ]
     },
     "execution_count": 28,
     "metadata": {},
     "output_type": "execute_result"
    }
   ],
   "source": [
    "df_10 = bq.query(\"\"\"\n",
    "SELECT *\n",
    "FROM\n",
    "(SELECT county, neighbors\n",
    "FROM bigquery-public-data.geo_us_boundaries.adjacent_counties\n",
    "WHERE state = 'Wisconsin') wi_neighbors\n",
    "WHERE \"Dane\" IN UNNEST(neighbors)\n",
    "\"\"\").to_dataframe()\n",
    "df_10"
   ]
  },
  {
   "cell_type": "code",
   "execution_count": 29,
   "id": "17aaf85e-4be0-4bc5-808a-6a7a96ef907d",
   "metadata": {},
   "outputs": [
    {
     "data": {
      "text/plain": [
       "['Columbia', 'Dodge', 'Green', 'Iowa', 'Jefferson', 'Rock', 'Sauk']"
      ]
     },
     "execution_count": 29,
     "metadata": {},
     "output_type": "execute_result"
    }
   ],
   "source": [
    "\n",
    "df_10=df_10.sort_values(by='county', ascending=True)\n",
    "df_10=df_10['county'].to_list()\n",
    "df_10=[name.replace(\" County\", \"\") for name in df_10]\n",
    "df_10"
   ]
  },
  {
   "cell_type": "code",
   "execution_count": 30,
   "id": "f0d04263-b2bb-4069-9494-ca2396017406",
   "metadata": {},
   "outputs": [
    {
     "data": {
      "text/plain": [
       "['Columbia', 'Dodge', 'Green', 'Iowa', 'Jefferson', 'Rock', 'Sauk']"
      ]
     },
     "execution_count": 30,
     "metadata": {},
     "output_type": "execute_result"
    }
   ],
   "source": [
    "#q10\n",
    "[name.replace(\" \", \"\") for name in df_10]"
   ]
  }
 ],
 "metadata": {
  "kernelspec": {
   "display_name": "Python 3 (ipykernel)",
   "language": "python",
   "name": "python3"
  },
  "language_info": {
   "codemirror_mode": {
    "name": "ipython",
    "version": 3
   },
   "file_extension": ".py",
   "mimetype": "text/x-python",
   "name": "python",
   "nbconvert_exporter": "python",
   "pygments_lexer": "ipython3",
   "version": "3.12.3"
  }
 },
 "nbformat": 4,
 "nbformat_minor": 5
}
