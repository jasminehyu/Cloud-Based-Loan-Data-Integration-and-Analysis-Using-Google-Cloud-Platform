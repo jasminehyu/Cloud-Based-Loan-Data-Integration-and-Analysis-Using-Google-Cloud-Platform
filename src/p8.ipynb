{
 "cells": [
  {
   "cell_type": "code",
   "execution_count": 1,
   "id": "f4074afc-f403-4aab-8d4b-a33eda45acfc",
   "metadata": {},
   "outputs": [],
   "source": [
    "from google.cloud import bigquery"
   ]
  },
  {
   "cell_type": "code",
   "execution_count": 2,
   "id": "0e054c90-9609-4cf7-8caf-e6b7b12b7bac",
   "metadata": {},
   "outputs": [
    {
     "name": "stderr",
     "output_type": "stream",
     "text": [
      "/home/hyu424/p8_hyu424/venv/lib/python3.12/site-packages/google/cloud/bigquery/__init__.py:237: FutureWarning: %load_ext google.cloud.bigquery is deprecated. Install bigquery-magics package and use `%load_ext bigquery_magics`, instead.\n",
      "  warnings.warn(\n"
     ]
    }
   ],
   "source": [
    "%load_ext google.cloud.bigquery"
   ]
  },
  {
   "cell_type": "code",
   "execution_count": 6,
   "id": "25ad8882-31e4-4d8d-825b-e0285b689c5f",
   "metadata": {},
   "outputs": [
    {
     "data": {
      "application/vnd.jupyter.widget-view+json": {
       "model_id": "80389a3b856a46a78255f45331a8dd12",
       "version_major": 2,
       "version_minor": 0
      },
      "text/plain": [
       "Query is running:   0%|          |"
      ]
     },
     "metadata": {},
     "output_type": "display_data"
    },
    {
     "data": {
      "application/vnd.jupyter.widget-view+json": {
       "model_id": "86151a00eeee4927a944863c351fb3db",
       "version_major": 2,
       "version_minor": 0
      },
      "text/plain": [
       "Downloading:   0%|          |"
      ]
     },
     "metadata": {},
     "output_type": "display_data"
    }
   ],
   "source": [
    "%%bigquery df_1 --project cs544p8-444019\n",
    "SELECT geo_id\n",
    "FROM bigquery-public-data.geo_us_boundaries.counties\n",
    "WHERE county_name='Dane'"
   ]
  },
  {
   "cell_type": "code",
   "execution_count": 7,
   "id": "22e9c231-320b-49c3-a576-1380251641f7",
   "metadata": {},
   "outputs": [
    {
     "data": {
      "text/plain": [
       "'55025'"
      ]
     },
     "execution_count": 7,
     "metadata": {},
     "output_type": "execute_result"
    }
   ],
   "source": [
    "#q1\n",
    "ans1 = df_1.iat[0, 0]  \n",
    "ans1"
   ]
  },
  {
   "cell_type": "code",
   "execution_count": 8,
   "id": "9a6f15f4-58a7-4979-b052-afb01b91d0e6",
   "metadata": {},
   "outputs": [
    {
     "data": {
      "application/vnd.jupyter.widget-view+json": {
       "model_id": "270bb225e34c464c8587c85f8530d884",
       "version_major": 2,
       "version_minor": 0
      },
      "text/plain": [
       "Query is running:   0%|          |"
      ]
     },
     "metadata": {},
     "output_type": "display_data"
    },
    {
     "data": {
      "application/vnd.jupyter.widget-view+json": {
       "model_id": "67e256d0104d4d35a2459416d8465104",
       "version_major": 2,
       "version_minor": 0
      },
      "text/plain": [
       "Downloading:   0%|          |"
      ]
     },
     "metadata": {},
     "output_type": "display_data"
    }
   ],
   "source": [
    "%%bigquery df_2 --project cs544p8-444019\n",
    "SELECT state_fips_code, COUNT(geo_id) AS counts\n",
    "FROM bigquery-public-data.geo_us_boundaries.counties\n",
    "GROUP BY state_fips_code\n",
    "ORDER BY counts DESC\n",
    "LIMIT 5"
   ]
  },
  {
   "cell_type": "code",
   "execution_count": 16,
   "id": "09d27fd3-819c-46ea-b1c5-b47ea68d6826",
   "metadata": {},
   "outputs": [
    {
     "data": {
      "text/plain": [
       "{'48': 254, '13': 159, '51': 133, '21': 120, '29': 115}"
      ]
     },
     "execution_count": 16,
     "metadata": {},
     "output_type": "execute_result"
    }
   ],
   "source": [
    "#q2\n",
    "#df_2 = df_2.set_index(\"state_fips_code\")\n",
    "result_dict_2 = df_2['counts'].to_dict()\n",
    "result_dict_2"
   ]
  },
  {
   "cell_type": "code",
   "execution_count": 17,
   "id": "b9c7b476-a349-45b5-be72-464366e9f09c",
   "metadata": {},
   "outputs": [
    {
     "name": "stderr",
     "output_type": "stream",
     "text": [
      "/home/hyu424/p8_hyu424/venv/lib/python3.12/site-packages/google/auth/_default.py:76: UserWarning: Your application has authenticated using end user credentials from Google Cloud SDK without a quota project. You might receive a \"quota exceeded\" or \"API not enabled\" error. See the following page for troubleshooting: https://cloud.google.com/docs/authentication/adc-troubleshooting/user-creds. \n",
      "  warnings.warn(_CLOUD_SDK_CREDENTIALS_WARNING)\n"
     ]
    }
   ],
   "source": [
    "no_cache_dry = bigquery.QueryJobConfig(dry_run=True,use_query_cache=False)\n",
    "bq = bigquery.Client(\"cs544p8-444019\")\n",
    "q1 = bq.query(\"\"\"\n",
    "SELECT geo_id\n",
    "FROM bigquery-public-data.geo_us_boundaries.counties\n",
    "WHERE county_name='Dane'\n",
    "\"\"\", job_config=no_cache_dry)\n",
    "\n",
    "result_q1=q1.total_bytes_processed / 1024**2\n",
    "\n",
    "q2=bq.query(\"\"\"\n",
    "SELECT state_fips_code, COUNT(geo_id) AS counts\n",
    "FROM bigquery-public-data.geo_us_boundaries.counties\n",
    "GROUP BY state_fips_code\n",
    "ORDER BY counts DESC\n",
    "LIMIT 5\n",
    "\"\"\", job_config=no_cache_dry)\n",
    "\n",
    "result_q2=q2.total_bytes_processed / 1024**2"
   ]
  },
  {
   "cell_type": "code",
   "execution_count": 19,
   "id": "3246160f-5f8f-474c-8117-56105044b445",
   "metadata": {},
   "outputs": [
    {
     "data": {
      "text/plain": [
       "{'q1': '0.04947185516357422MB', 'q2': '0.03391551971435547MB'}"
      ]
     },
     "execution_count": 19,
     "metadata": {},
     "output_type": "execute_result"
    }
   ],
   "source": [
    "#q3\n",
    "result_q3 = {\n",
    "    \"q1\": f\"{result_q1}MB\",\n",
    "    \"q2\": f\"{result_q2}MB\"\n",
    "}\n",
    "result_q3"
   ]
  },
  {
   "cell_type": "code",
   "execution_count": 23,
   "id": "ff27ab37-90dd-48b2-bdb6-a737a395b81d",
   "metadata": {},
   "outputs": [
    {
     "name": "stderr",
     "output_type": "stream",
     "text": [
      "/home/hyu424/p8_hyu424/venv/lib/python3.12/site-packages/google/auth/_default.py:76: UserWarning: Your application has authenticated using end user credentials from Google Cloud SDK without a quota project. You might receive a \"quota exceeded\" or \"API not enabled\" error. See the following page for troubleshooting: https://cloud.google.com/docs/authentication/adc-troubleshooting/user-creds. \n",
      "  warnings.warn(_CLOUD_SDK_CREDENTIALS_WARNING)\n"
     ]
    },
    {
     "data": {
      "text/plain": [
       "Dataset(DatasetReference('cs544p8-444019', 'p8'))"
      ]
     },
     "execution_count": 23,
     "metadata": {},
     "output_type": "execute_result"
    }
   ],
   "source": [
    "bq = bigquery.Client(\"cs544p8-444019\")\n",
    "ds= bigquery.Dataset(\"cs544p8-444019.p8\")\n",
    "bq.create_dataset(ds, exists_ok=True)"
   ]
  },
  {
   "cell_type": "code",
   "execution_count": 27,
   "id": "593c8671-031e-45db-9ea4-fce2b4361f49",
   "metadata": {},
   "outputs": [
    {
     "data": {
      "text/plain": [
       "Table(TableReference(DatasetReference('cs544p8-444019', 'p8'), 'hdma'))"
      ]
     },
     "execution_count": 27,
     "metadata": {},
     "output_type": "execute_result"
    }
   ],
   "source": [
    "config = bigquery.ExternalConfig(source_format=\"PARQUET\")\n",
    "config.source_uris = [\"gs://cs544_p8_1688/hdma-wi-2021.parquet\"]\n",
    "# config.autodetect = True\n",
    "table = bigquery.Table(\"cs544p8-444019.p8.hdma\")\n",
    "table.external_data_configuration = config\n",
    "bq.create_table(table, exists_ok=True)"
   ]
  },
  {
   "cell_type": "code",
   "execution_count": 28,
   "id": "40292507-e013-470d-a039-ada7ac799962",
   "metadata": {},
   "outputs": [
    {
     "data": {
      "text/plain": [
       "['p8']"
      ]
     },
     "execution_count": 28,
     "metadata": {},
     "output_type": "execute_result"
    }
   ],
   "source": [
    "#q4\n",
    "datasets=[]\n",
    "for ds in bq.list_datasets(\"cs544p8-444019\"):\n",
    "    datasets.append(ds.dataset_id)\n",
    "datasets"
   ]
  },
  {
   "cell_type": "code",
   "execution_count": 38,
   "id": "27c934b3-d817-4708-995c-f446c857229e",
   "metadata": {},
   "outputs": [],
   "source": [
    "q=bq.query(\"\"\"\n",
    "SELECT c.county_name AS county_name, COUNT(h.index) AS application_count \n",
    "FROM p8.hdma as h\n",
    "JOIN bigquery-public-data.geo_us_boundaries.counties AS c\n",
    "ON h.county_code=c.county_fips_code\n",
    "GROUP BY c.county_name\n",
    "ORDER BY application_count DESC\n",
    "LIMIT 10\n",
    "\"\"\")"
   ]
  },
  {
   "cell_type": "code",
   "execution_count": 39,
   "id": "86e0bb58-e1cd-48fd-8b28-71b4e8e0e7c6",
   "metadata": {},
   "outputs": [
    {
     "data": {
      "text/html": [
       "<div>\n",
       "<style scoped>\n",
       "    .dataframe tbody tr th:only-of-type {\n",
       "        vertical-align: middle;\n",
       "    }\n",
       "\n",
       "    .dataframe tbody tr th {\n",
       "        vertical-align: top;\n",
       "    }\n",
       "\n",
       "    .dataframe thead th {\n",
       "        text-align: right;\n",
       "    }\n",
       "</style>\n",
       "<table border=\"1\" class=\"dataframe\">\n",
       "  <thead>\n",
       "    <tr style=\"text-align: right;\">\n",
       "      <th></th>\n",
       "      <th>county_name</th>\n",
       "      <th>application_count</th>\n",
       "    </tr>\n",
       "  </thead>\n",
       "  <tbody>\n",
       "    <tr>\n",
       "      <th>0</th>\n",
       "      <td>Milwaukee</td>\n",
       "      <td>46570</td>\n",
       "    </tr>\n",
       "    <tr>\n",
       "      <th>1</th>\n",
       "      <td>Dane</td>\n",
       "      <td>38557</td>\n",
       "    </tr>\n",
       "    <tr>\n",
       "      <th>2</th>\n",
       "      <td>Waukesha</td>\n",
       "      <td>34159</td>\n",
       "    </tr>\n",
       "    <tr>\n",
       "      <th>3</th>\n",
       "      <td>Brown</td>\n",
       "      <td>15615</td>\n",
       "    </tr>\n",
       "    <tr>\n",
       "      <th>4</th>\n",
       "      <td>Racine</td>\n",
       "      <td>13007</td>\n",
       "    </tr>\n",
       "    <tr>\n",
       "      <th>5</th>\n",
       "      <td>Outagamie</td>\n",
       "      <td>11523</td>\n",
       "    </tr>\n",
       "    <tr>\n",
       "      <th>6</th>\n",
       "      <td>Kenosha</td>\n",
       "      <td>10744</td>\n",
       "    </tr>\n",
       "    <tr>\n",
       "      <th>7</th>\n",
       "      <td>Washington</td>\n",
       "      <td>10726</td>\n",
       "    </tr>\n",
       "    <tr>\n",
       "      <th>8</th>\n",
       "      <td>Rock</td>\n",
       "      <td>9834</td>\n",
       "    </tr>\n",
       "    <tr>\n",
       "      <th>9</th>\n",
       "      <td>Winnebago</td>\n",
       "      <td>9310</td>\n",
       "    </tr>\n",
       "  </tbody>\n",
       "</table>\n",
       "</div>"
      ],
      "text/plain": [
       "  county_name  application_count\n",
       "0   Milwaukee              46570\n",
       "1        Dane              38557\n",
       "2    Waukesha              34159\n",
       "3       Brown              15615\n",
       "4      Racine              13007\n",
       "5   Outagamie              11523\n",
       "6     Kenosha              10744\n",
       "7  Washington              10726\n",
       "8        Rock               9834\n",
       "9   Winnebago               9310"
      ]
     },
     "execution_count": 39,
     "metadata": {},
     "output_type": "execute_result"
    }
   ],
   "source": [
    "df_5=q.to_dataframe()\n",
    "df_5"
   ]
  },
  {
   "cell_type": "code",
   "execution_count": 42,
   "id": "4141daa3-90dd-4ca0-9e69-9924ce50dd11",
   "metadata": {},
   "outputs": [
    {
     "data": {
      "text/plain": [
       "{'Milwaukee': 46570,\n",
       " 'Dane': 38557,\n",
       " 'Waukesha': 34159,\n",
       " 'Brown': 15615,\n",
       " 'Racine': 13007,\n",
       " 'Outagamie': 11523,\n",
       " 'Kenosha': 10744,\n",
       " 'Washington': 10726,\n",
       " 'Rock': 9834,\n",
       " 'Winnebago': 9310}"
      ]
     },
     "execution_count": 42,
     "metadata": {},
     "output_type": "execute_result"
    }
   ],
   "source": [
    "#q5\n",
    "#df_5=df_5.set_index('county_name')\n",
    "result_5=df_5['application_count'].to_dict()\n",
    "result_5"
   ]
  }
 ],
 "metadata": {
  "kernelspec": {
   "display_name": "Python 3 (ipykernel)",
   "language": "python",
   "name": "python3"
  },
  "language_info": {
   "codemirror_mode": {
    "name": "ipython",
    "version": 3
   },
   "file_extension": ".py",
   "mimetype": "text/x-python",
   "name": "python",
   "nbconvert_exporter": "python",
   "pygments_lexer": "ipython3",
   "version": "3.12.3"
  }
 },
 "nbformat": 4,
 "nbformat_minor": 5
}
